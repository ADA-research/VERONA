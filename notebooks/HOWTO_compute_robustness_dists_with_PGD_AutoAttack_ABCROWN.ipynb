{
 "cells": [
  {
   "cell_type": "code",
   "execution_count": 3,
   "id": "f288991a",
   "metadata": {},
   "outputs": [],
   "source": [
    "from datetime import datetime\n",
    "from pathlib import Path\n",
    "\n",
    "import torch\n",
    "import torchvision\n",
    "import torchvision.transforms as transforms\n",
    "from ada_verona import (\n",
    "    AttackEstimationModule,\n",
    "    AutoAttackWrapper,\n",
    "    BinarySearchEpsilonValueEstimator,\n",
    "    ExperimentRepository,\n",
    "    ImageFileDataset,\n",
    "    ONNXNetwork,\n",
    "    One2AnyPropertyGenerator,\n",
    "    PGDAttack,\n",
    "    PredictionsBasedSampler,\n",
    "    PytorchExperimentDataset,\n",
    "    VerificationContext,\n",
    ")"
   ]
  },
  {
   "cell_type": "markdown",
   "id": "43ed9ed1",
   "metadata": {},
   "source": [
    "## Guide on how to compute upper bounds to Robustness Distributions using adversarial attacks with ada-verona. \n",
    "\n",
    "The notebook shows how to use the different components of [VERONA](https://github.com/ADA-research/VERONA) and the corresponding [ada-verona](https://pypi.org/project/ada-verona/) package for setting up robustness experiments and computing robustness distributions of neural networks [1,2]. \n",
    "\n",
    "\n",
    "We'll cover:\n",
    "- Loading Models and Datasets with ada-verona\n",
    "- Running PGD and AutoAttack experiments\n",
    "- Running verification experiments with a formal verifier (AB-CROWN)\n",
    "\n",
    "---\n",
    "## 0. Setup\n",
    "\n",
    "Make sure you have installed the ada-verona package from PyPI: `uv pip install ada-verona`. If you need further instructions, please refer to the [VERONA README](https://github.com/ADA-research/VERONA/blob/main/README.md).\n",
    "\n",
    "To get started, you need a trained model and a dataset (e.g., MNIST).\n",
    "\n",
    "## 1. Loading Models and Datasets with VERONA\n",
    "\n",
    "The VERONA package is designed to make it easy for researchers to load models and datasets for robustness experiments.\n",
    "\n",
    "## Supported Model Format\n",
    "- **ONNX**: VERONA expects neural network models in the ONNX format (`.onnx` files).\n",
    "- You can convert PyTorch or TensorFlow models to ONNX using their respective export utilities. \n",
    "- Note: We plan to add direct support for torch models soon (3. Quarter of 2025).\n",
    "  \n"
   ]
  },
  {
   "cell_type": "markdown",
   "id": "1a93240e",
   "metadata": {},
   "source": [
    "### Loading a Model"
   ]
  },
  {
   "cell_type": "code",
   "execution_count": 5,
   "id": "40cbd4d8",
   "metadata": {},
   "outputs": [],
   "source": [
    "# Path to your ONNX model\n",
    "model_path = Path(\"../example_experiment/data/networks/mnist-net_256x2.onnx\")\n",
    "network = ONNXNetwork(model_path)\n",
    "\n",
    "# To load as a PyTorch model (for attacks, etc.)\n",
    "torch_model = network.load_pytorch_model()"
   ]
  },
  {
   "cell_type": "markdown",
   "id": "9954ceb7",
   "metadata": {},
   "source": [
    "### Loading a Dataset\n",
    "- For standard datasets (like MNIST), use the provided wrappers:"
   ]
  },
  {
   "cell_type": "code",
   "execution_count": null,
   "id": "26f98b55",
   "metadata": {},
   "outputs": [
    {
     "name": "stdout",
     "output_type": "stream",
     "text": [
      "Downloading http://yann.lecun.com/exdb/mnist/train-images-idx3-ubyte.gz\n",
      "Failed to download (trying next):\n",
      "HTTP Error 404: Not Found\n",
      "\n",
      "Downloading https://ossci-datasets.s3.amazonaws.com/mnist/train-images-idx3-ubyte.gz\n",
      "Downloading https://ossci-datasets.s3.amazonaws.com/mnist/train-images-idx3-ubyte.gz to ./data/MNIST/raw/train-images-idx3-ubyte.gz\n"
     ]
    },
    {
     "name": "stderr",
     "output_type": "stream",
     "text": [
      "100%|██████████| 9912422/9912422 [00:00<00:00, 12441172.51it/s]\n"
     ]
    },
    {
     "name": "stdout",
     "output_type": "stream",
     "text": [
      "Extracting ./data/MNIST/raw/train-images-idx3-ubyte.gz to ./data/MNIST/raw\n",
      "\n",
      "Downloading http://yann.lecun.com/exdb/mnist/train-labels-idx1-ubyte.gz\n",
      "Failed to download (trying next):\n",
      "HTTP Error 404: Not Found\n",
      "\n",
      "Downloading https://ossci-datasets.s3.amazonaws.com/mnist/train-labels-idx1-ubyte.gz\n",
      "Downloading https://ossci-datasets.s3.amazonaws.com/mnist/train-labels-idx1-ubyte.gz to ./data/MNIST/raw/train-labels-idx1-ubyte.gz\n"
     ]
    },
    {
     "name": "stderr",
     "output_type": "stream",
     "text": [
      "100%|██████████| 28881/28881 [00:00<00:00, 333025.50it/s]\n"
     ]
    },
    {
     "name": "stdout",
     "output_type": "stream",
     "text": [
      "Extracting ./data/MNIST/raw/train-labels-idx1-ubyte.gz to ./data/MNIST/raw\n",
      "\n",
      "Downloading http://yann.lecun.com/exdb/mnist/t10k-images-idx3-ubyte.gz\n",
      "Failed to download (trying next):\n",
      "HTTP Error 404: Not Found\n",
      "\n",
      "Downloading https://ossci-datasets.s3.amazonaws.com/mnist/t10k-images-idx3-ubyte.gz\n",
      "Downloading https://ossci-datasets.s3.amazonaws.com/mnist/t10k-images-idx3-ubyte.gz to ./data/MNIST/raw/t10k-images-idx3-ubyte.gz\n"
     ]
    },
    {
     "name": "stderr",
     "output_type": "stream",
     "text": [
      "100%|██████████| 1648877/1648877 [00:00<00:00, 3093698.30it/s]\n"
     ]
    },
    {
     "name": "stdout",
     "output_type": "stream",
     "text": [
      "Extracting ./data/MNIST/raw/t10k-images-idx3-ubyte.gz to ./data/MNIST/raw\n",
      "\n",
      "Downloading http://yann.lecun.com/exdb/mnist/t10k-labels-idx1-ubyte.gz\n",
      "Failed to download (trying next):\n",
      "HTTP Error 404: Not Found\n",
      "\n",
      "Downloading https://ossci-datasets.s3.amazonaws.com/mnist/t10k-labels-idx1-ubyte.gz\n",
      "Downloading https://ossci-datasets.s3.amazonaws.com/mnist/t10k-labels-idx1-ubyte.gz to ./data/MNIST/raw/t10k-labels-idx1-ubyte.gz\n"
     ]
    },
    {
     "name": "stderr",
     "output_type": "stream",
     "text": [
      "100%|██████████| 4542/4542 [00:00<00:00, 1957112.06it/s]"
     ]
    },
    {
     "name": "stdout",
     "output_type": "stream",
     "text": [
      "Extracting ./data/MNIST/raw/t10k-labels-idx1-ubyte.gz to ./data/MNIST/raw\n",
      "\n"
     ]
    },
    {
     "name": "stderr",
     "output_type": "stream",
     "text": [
      "\n"
     ]
    }
   ],
   "source": [
    "# define pytorch dataset. Preprocessing can be defined in the transform parameter\n",
    "torch_dataset = torchvision.datasets.MNIST(\n",
    "    root=\"./data\", train=False, download=True, transform=transforms.ToTensor()\n",
    ")\n",
    "# wrap pytorch dataset into experiment dataset to keep track of image id\n",
    "experiment_dataset = PytorchExperimentDataset(dataset=torch_dataset)\n",
    "\n",
    "# work on subset of the dataset to keep experiment small\n",
    "experiment_dataset = experiment_dataset.get_subset([x for x in range(0, 10)])"
   ]
  },
  {
   "cell_type": "markdown",
   "id": "29a9db08",
   "metadata": {},
   "source": [
    "### Alternatively, one can also use a custom dataset from the storage. For this, one can make use of the ImageFileDataset class:"
   ]
  },
  {
   "cell_type": "code",
   "execution_count": null,
   "id": "9c9e58ff",
   "metadata": {},
   "outputs": [],
   "source": [
    "# Here, one can also add preprocessing. \n",
    "# As of now, only the loading of torch tensors from the directory is supported\n",
    "preprocessing = transform = torchvision.transforms.Compose([torchvision.transforms.Normalize((0.1307,), (0.3081,))])\n",
    "custom_experiment_dataset = ImageFileDataset(\n",
    "    image_folder=Path(\"../example_experiment/data/images\"),\n",
    "    label_file=Path(\"../example_experiment/data/image_labels.csv\"),\n",
    "    preprocessing=preprocessing,\n",
    ")"
   ]
  },
  {
   "cell_type": "markdown",
   "id": "c78982b5",
   "metadata": {},
   "source": [
    "### Sampling and Experiment Context\n",
    "- Use the `ExperimentRepository` to manage experiments and create verification contexts. In this example, a one to any property generator is used that creates vnnlib files for one to any robustness queries. A one to one property generator is also already implemented in the package and could be used here as well. For the property generator, we have to define the number of classes, the lower bound of the data and the upper bound of the data.\n"
   ]
  },
  {
   "cell_type": "code",
   "execution_count": null,
   "id": "101ef980",
   "metadata": {},
   "outputs": [],
   "source": [
    "experiment_repository = ExperimentRepository(base_path=Path(\"../example_experiment\"), network_folder=Path(\"../example_experiment/data/networks\"))\n",
    "\n",
    "# Initialize a new experiment (or load an existing one)\n",
    "experiment_repository.initialize_new_experiment(\"robustness_experiment\")\n",
    "\n",
    "network = experiment_repository.get_network_list()[0]\n",
    "\n",
    "data_point = experiment_dataset[0]\n",
    "\n",
    "property_generator = One2AnyPropertyGenerator(number_classes=10, data_lb=0, data_ub=10)\n",
    "\n",
    "verification_context = experiment_repository.create_verification_context(network, data_point, property_generator)"
   ]
  },
  {
   "cell_type": "markdown",
   "id": "30ead885",
   "metadata": {},
   "source": [
    "**For more details, see the [VERONA wiki](https://deepwiki.com/ADA-research/VERONA).** "
   ]
  },
  {
   "cell_type": "markdown",
   "id": "b265e62d",
   "metadata": {},
   "source": [
    "## 2. Run PGD and AutoAttack Experiments \n",
    "\n",
    "Below is a minimal example for running PGD [3] and AutoAttack-based [4,5] robustness estimation.\n",
    "\n",
    "- **Tip:** For more examples see the scripts in the `scripts/` folder.\n"
   ]
  },
  {
   "cell_type": "code",
   "execution_count": 14,
   "id": "bd943923",
   "metadata": {},
   "outputs": [],
   "source": [
    "# Set up dataset and experiment repository\n",
    "torch.manual_seed(0)\n",
    "epsilon_list = [0.001, 0.005, 0.05, 0.08]\n",
    "experiment_repository_path = Path(\"../example_experiment\")\n",
    "network_folder = Path(\"../example_experiment/data/networks\")\n",
    "\n",
    "\n",
    "torch_dataset = torchvision.datasets.MNIST(\n",
    "    root=\"./data\", train=False, download=True, transform=transforms.ToTensor()\n",
    ")\n",
    "dataset = PytorchExperimentDataset(dataset=torch_dataset)\n",
    "experiment_repository = ExperimentRepository(base_path=experiment_repository_path, network_folder=network_folder)\n",
    "experiment_repository.initialize_new_experiment(\"robustness_experiment_example\")\n",
    "property_generator = One2AnyPropertyGenerator()"
   ]
  },
  {
   "cell_type": "markdown",
   "id": "b8ac23c9",
   "metadata": {},
   "source": [
    "To compute the robustness of a network, one first has to check which data points are classified correctly. For that the  `PredictionsBasedSampler` class is used."
   ]
  },
  {
   "cell_type": "code",
   "execution_count": 15,
   "id": "d2e110a8",
   "metadata": {},
   "outputs": [],
   "source": [
    "dataset_sampler = PredictionsBasedSampler(sample_correct_predictions=True)\n",
    "\n",
    "# Here all the data points that are correctly predicted by the network are sampled\n",
    "sampled_data = dataset_sampler.sample(network, experiment_dataset)"
   ]
  },
  {
   "cell_type": "code",
   "execution_count": 16,
   "id": "2cf56b5e",
   "metadata": {},
   "outputs": [],
   "source": [
    "# PGD Attack\n",
    "verifier_pgd = AttackEstimationModule(attack=PGDAttack(number_iterations=10, step_size=0.01))\n",
    "epsilon_value_estimator_pgd = BinarySearchEpsilonValueEstimator(\n",
    "    epsilon_value_list=epsilon_list.copy(), verifier=verifier_pgd\n",
    ")\n",
    "\n",
    "# AutoAttack\n",
    "verifier_autoattack = AttackEstimationModule(attack=AutoAttackWrapper())\n",
    "epsilon_value_estimator_auto = BinarySearchEpsilonValueEstimator(\n",
    "    epsilon_value_list=epsilon_list.copy(), verifier=verifier_autoattack\n",
    ")"
   ]
  },
  {
   "cell_type": "markdown",
   "id": "f18d2a6d",
   "metadata": {},
   "source": [
    "We use the pgd \"verifier\" `verifier_pgd ` from here on as an example for the next cells for illustrative purposes. Note that the verifier is used as a parameter to the Epsilon Estimator `epsilon_value_estimator_pgd`. The epsilon value estimator determines which search strategy is used to find adversarial examples (or, more precisely, estimate the interval of perturbation magnitude where the classification outcome changes). "
   ]
  },
  {
   "cell_type": "markdown",
   "id": "91273abd",
   "metadata": {},
   "source": [
    "### Run the experiment (example for PGD)\n",
    "\n",
    "Here is a minimal example for one network and one data point:"
   ]
  },
  {
   "cell_type": "code",
   "execution_count": 17,
   "id": "141f8dbb",
   "metadata": {},
   "outputs": [
    {
     "name": "stderr",
     "output_type": "stream",
     "text": [
      "DEBUG:ada_verona.epsilon_value_estimator.binary_search_epsilon_value_estimator:current epsilon value: UNSAT,took: {epsilon_status_list[midpoint].time}\n",
      "DEBUG:ada_verona.epsilon_value_estimator.binary_search_epsilon_value_estimator:current epsilon value: SAT,took: {epsilon_status_list[midpoint].time}\n",
      "DEBUG:ada_verona.epsilon_value_estimator.binary_search_epsilon_value_estimator:epsilon status list: [(0.001, None, None), (0.005, <VerificationResult.UNSAT: 'UNSAT'>, 0.10132956504821777), (0.05, <VerificationResult.SAT: 'SAT'>, 0.006763458251953125), (0.08, None, None)]\n",
      "INFO:ada_verona.epsilon_value_estimator.binary_search_epsilon_value_estimator:Verification Context: {'network_path': PosixPath('/gpfs/home2/jvrijn/code/hiwi_code/PR_split/VERONA/example_experiment/data/networks/mnist-net_256x2.onnx'), 'image_id': 0, 'original_label': 7, 'tmp_path': PosixPath('/gpfs/home2/jvrijn/code/hiwi_code/PR_split/VERONA/example_experiment/robustness_experiment_example_30-09-2025+18_42/tmp/mnist-net_256x2/image_0')}, epsilon_result: 0.005\n"
     ]
    },
    {
     "name": "stdout",
     "output_type": "stream",
     "text": [
      "EpsilonValueResult(verification_context=<ada_verona.database.verification_context.VerificationContext object at 0x1539a658b370>, epsilon=0.005, smallest_sat_value=0.05, time=0.13820219039916992, verifier='AttackEstimationModule (PGDAttack (iterations=10, step_size=0.01, randomise=False))')\n"
     ]
    }
   ],
   "source": [
    "network = experiment_repository.get_network_list()[0]\n",
    "data_point = dataset[0]\n",
    "verification_context = experiment_repository.create_verification_context(network, data_point, property_generator)\n",
    "result = epsilon_value_estimator_pgd.compute_epsilon_value(verification_context)\n",
    "print(result)"
   ]
  },
  {
   "cell_type": "markdown",
   "id": "370c1735",
   "metadata": {},
   "source": [
    "The slightly more elaborate example below computes critical epsilon values for a given network and datapoint and again defines a verification context. The folder for intermediate results needs to be provided to the VerificationContext, so the vnnlib files can be stored there. In addition, the results of the epsilon values queries can also be stored there."
   ]
  },
  {
   "cell_type": "code",
   "execution_count": 18,
   "id": "66c85694",
   "metadata": {},
   "outputs": [
    {
     "name": "stderr",
     "output_type": "stream",
     "text": [
      "DEBUG:ada_verona.epsilon_value_estimator.binary_search_epsilon_value_estimator:current epsilon value: UNSAT,took: {epsilon_status_list[midpoint].time}\n",
      "DEBUG:ada_verona.epsilon_value_estimator.binary_search_epsilon_value_estimator:current epsilon value: SAT,took: {epsilon_status_list[midpoint].time}\n",
      "DEBUG:ada_verona.epsilon_value_estimator.binary_search_epsilon_value_estimator:epsilon status list: [(0.001, None, None), (0.005, <VerificationResult.UNSAT: 'UNSAT'>, 0.007114410400390625), (0.05, <VerificationResult.SAT: 'SAT'>, 0.0165250301361084), (0.08, None, None)]\n",
      "INFO:ada_verona.epsilon_value_estimator.binary_search_epsilon_value_estimator:Verification Context: {'network_path': PosixPath('/gpfs/home2/jvrijn/code/hiwi_code/PR_split/VERONA/example_experiment/data/networks/mnist-net_256x2.onnx'), 'image_id': 0, 'original_label': 7, 'tmp_path': PosixPath('/gpfs/home2/jvrijn/code/hiwi_code/PR_split/VERONA/notebooks/intermediate_results/30-09-2025+18_43/mnist-net_256x2/image_0')}, epsilon_result: 0.005\n",
      "DEBUG:ada_verona.epsilon_value_estimator.binary_search_epsilon_value_estimator:current epsilon value: UNSAT,took: {epsilon_status_list[midpoint].time}\n",
      "DEBUG:ada_verona.epsilon_value_estimator.binary_search_epsilon_value_estimator:current epsilon value: SAT,took: {epsilon_status_list[midpoint].time}\n",
      "DEBUG:ada_verona.epsilon_value_estimator.binary_search_epsilon_value_estimator:epsilon status list: [(0.001, None, None), (0.005, <VerificationResult.UNSAT: 'UNSAT'>, 0.006627082824707031), (0.05, <VerificationResult.SAT: 'SAT'>, 0.0067331790924072266), (0.08, None, None)]\n",
      "INFO:ada_verona.epsilon_value_estimator.binary_search_epsilon_value_estimator:Verification Context: {'network_path': PosixPath('/gpfs/home2/jvrijn/code/hiwi_code/PR_split/VERONA/example_experiment/data/networks/mnist-net_256x2.onnx'), 'image_id': 1, 'original_label': 2, 'tmp_path': PosixPath('/gpfs/home2/jvrijn/code/hiwi_code/PR_split/VERONA/notebooks/intermediate_results/30-09-2025+18_43/mnist-net_256x2/image_1')}, epsilon_result: 0.005\n",
      "DEBUG:ada_verona.epsilon_value_estimator.binary_search_epsilon_value_estimator:current epsilon value: UNSAT,took: {epsilon_status_list[midpoint].time}\n",
      "DEBUG:ada_verona.epsilon_value_estimator.binary_search_epsilon_value_estimator:current epsilon value: SAT,took: {epsilon_status_list[midpoint].time}\n",
      "DEBUG:ada_verona.epsilon_value_estimator.binary_search_epsilon_value_estimator:epsilon status list: [(0.001, None, None), (0.005, <VerificationResult.UNSAT: 'UNSAT'>, 0.0066680908203125), (0.05, <VerificationResult.SAT: 'SAT'>, 0.0076334476470947266), (0.08, None, None)]\n",
      "INFO:ada_verona.epsilon_value_estimator.binary_search_epsilon_value_estimator:Verification Context: {'network_path': PosixPath('/gpfs/home2/jvrijn/code/hiwi_code/PR_split/VERONA/example_experiment/data/networks/mnist-net_256x2.onnx'), 'image_id': 2, 'original_label': 1, 'tmp_path': PosixPath('/gpfs/home2/jvrijn/code/hiwi_code/PR_split/VERONA/notebooks/intermediate_results/30-09-2025+18_43/mnist-net_256x2/image_2')}, epsilon_result: 0.005\n",
      "DEBUG:ada_verona.epsilon_value_estimator.binary_search_epsilon_value_estimator:current epsilon value: UNSAT,took: {epsilon_status_list[midpoint].time}\n",
      "DEBUG:ada_verona.epsilon_value_estimator.binary_search_epsilon_value_estimator:current epsilon value: SAT,took: {epsilon_status_list[midpoint].time}\n",
      "DEBUG:ada_verona.epsilon_value_estimator.binary_search_epsilon_value_estimator:epsilon status list: [(0.001, None, None), (0.005, <VerificationResult.UNSAT: 'UNSAT'>, 0.00638127326965332), (0.05, <VerificationResult.SAT: 'SAT'>, 0.006457328796386719), (0.08, None, None)]\n",
      "INFO:ada_verona.epsilon_value_estimator.binary_search_epsilon_value_estimator:Verification Context: {'network_path': PosixPath('/gpfs/home2/jvrijn/code/hiwi_code/PR_split/VERONA/example_experiment/data/networks/mnist-net_256x2.onnx'), 'image_id': 3, 'original_label': 0, 'tmp_path': PosixPath('/gpfs/home2/jvrijn/code/hiwi_code/PR_split/VERONA/notebooks/intermediate_results/30-09-2025+18_43/mnist-net_256x2/image_3')}, epsilon_result: 0.005\n",
      "DEBUG:ada_verona.epsilon_value_estimator.binary_search_epsilon_value_estimator:current epsilon value: UNSAT,took: {epsilon_status_list[midpoint].time}\n",
      "DEBUG:ada_verona.epsilon_value_estimator.binary_search_epsilon_value_estimator:current epsilon value: UNSAT,took: {epsilon_status_list[midpoint].time}\n",
      "DEBUG:ada_verona.epsilon_value_estimator.binary_search_epsilon_value_estimator:current epsilon value: UNSAT,took: {epsilon_status_list[midpoint].time}\n",
      "DEBUG:ada_verona.epsilon_value_estimator.binary_search_epsilon_value_estimator:epsilon status list: [(0.001, None, None), (0.005, <VerificationResult.UNSAT: 'UNSAT'>, 0.006598949432373047), (0.05, <VerificationResult.UNSAT: 'UNSAT'>, 0.0065653324127197266), (0.08, <VerificationResult.UNSAT: 'UNSAT'>, 0.006552457809448242)]\n",
      "INFO:ada_verona.epsilon_value_estimator.binary_search_epsilon_value_estimator:Verification Context: {'network_path': PosixPath('/gpfs/home2/jvrijn/code/hiwi_code/PR_split/VERONA/example_experiment/data/networks/mnist-net_256x2.onnx'), 'image_id': 4, 'original_label': 4, 'tmp_path': PosixPath('/gpfs/home2/jvrijn/code/hiwi_code/PR_split/VERONA/notebooks/intermediate_results/30-09-2025+18_43/mnist-net_256x2/image_4')}, epsilon_result: 0.08\n",
      "DEBUG:ada_verona.epsilon_value_estimator.binary_search_epsilon_value_estimator:current epsilon value: UNSAT,took: {epsilon_status_list[midpoint].time}\n",
      "DEBUG:ada_verona.epsilon_value_estimator.binary_search_epsilon_value_estimator:current epsilon value: SAT,took: {epsilon_status_list[midpoint].time}\n",
      "DEBUG:ada_verona.epsilon_value_estimator.binary_search_epsilon_value_estimator:epsilon status list: [(0.001, None, None), (0.005, <VerificationResult.UNSAT: 'UNSAT'>, 0.006338357925415039), (0.05, <VerificationResult.SAT: 'SAT'>, 0.006423473358154297), (0.08, None, None)]\n",
      "INFO:ada_verona.epsilon_value_estimator.binary_search_epsilon_value_estimator:Verification Context: {'network_path': PosixPath('/gpfs/home2/jvrijn/code/hiwi_code/PR_split/VERONA/example_experiment/data/networks/mnist-net_256x2.onnx'), 'image_id': 5, 'original_label': 1, 'tmp_path': PosixPath('/gpfs/home2/jvrijn/code/hiwi_code/PR_split/VERONA/notebooks/intermediate_results/30-09-2025+18_43/mnist-net_256x2/image_5')}, epsilon_result: 0.005\n",
      "DEBUG:ada_verona.epsilon_value_estimator.binary_search_epsilon_value_estimator:current epsilon value: UNSAT,took: {epsilon_status_list[midpoint].time}\n",
      "DEBUG:ada_verona.epsilon_value_estimator.binary_search_epsilon_value_estimator:current epsilon value: SAT,took: {epsilon_status_list[midpoint].time}\n",
      "DEBUG:ada_verona.epsilon_value_estimator.binary_search_epsilon_value_estimator:epsilon status list: [(0.001, None, None), (0.005, <VerificationResult.UNSAT: 'UNSAT'>, 0.006317138671875), (0.05, <VerificationResult.SAT: 'SAT'>, 0.007517099380493164), (0.08, None, None)]\n",
      "INFO:ada_verona.epsilon_value_estimator.binary_search_epsilon_value_estimator:Verification Context: {'network_path': PosixPath('/gpfs/home2/jvrijn/code/hiwi_code/PR_split/VERONA/example_experiment/data/networks/mnist-net_256x2.onnx'), 'image_id': 6, 'original_label': 4, 'tmp_path': PosixPath('/gpfs/home2/jvrijn/code/hiwi_code/PR_split/VERONA/notebooks/intermediate_results/30-09-2025+18_43/mnist-net_256x2/image_6')}, epsilon_result: 0.005\n",
      "DEBUG:ada_verona.epsilon_value_estimator.binary_search_epsilon_value_estimator:current epsilon value: UNSAT,took: {epsilon_status_list[midpoint].time}\n",
      "DEBUG:ada_verona.epsilon_value_estimator.binary_search_epsilon_value_estimator:current epsilon value: SAT,took: {epsilon_status_list[midpoint].time}\n",
      "DEBUG:ada_verona.epsilon_value_estimator.binary_search_epsilon_value_estimator:epsilon status list: [(0.001, None, None), (0.005, <VerificationResult.UNSAT: 'UNSAT'>, 0.006747722625732422), (0.05, <VerificationResult.SAT: 'SAT'>, 0.006823062896728516), (0.08, None, None)]\n",
      "INFO:ada_verona.epsilon_value_estimator.binary_search_epsilon_value_estimator:Verification Context: {'network_path': PosixPath('/gpfs/home2/jvrijn/code/hiwi_code/PR_split/VERONA/example_experiment/data/networks/mnist-net_256x2.onnx'), 'image_id': 7, 'original_label': 9, 'tmp_path': PosixPath('/gpfs/home2/jvrijn/code/hiwi_code/PR_split/VERONA/notebooks/intermediate_results/30-09-2025+18_43/mnist-net_256x2/image_7')}, epsilon_result: 0.005\n",
      "DEBUG:ada_verona.epsilon_value_estimator.binary_search_epsilon_value_estimator:current epsilon value: UNSAT,took: {epsilon_status_list[midpoint].time}\n"
     ]
    },
    {
     "name": "stdout",
     "output_type": "stream",
     "text": [
      "result: EpsilonValueResult(verification_context=<ada_verona.database.verification_context.VerificationContext object at 0x15399c162920>, epsilon=0.005, smallest_sat_value=0.05, time=0.04108858108520508, verifier='AttackEstimationModule (PGDAttack (iterations=10, step_size=0.01, randomise=False))')\n",
      "result: EpsilonValueResult(verification_context=<ada_verona.database.verification_context.VerificationContext object at 0x15399c1635e0>, epsilon=0.005, smallest_sat_value=0.05, time=0.023203134536743164, verifier='AttackEstimationModule (PGDAttack (iterations=10, step_size=0.01, randomise=False))')\n",
      "result: EpsilonValueResult(verification_context=<ada_verona.database.verification_context.VerificationContext object at 0x153983f77c70>, epsilon=0.005, smallest_sat_value=0.05, time=0.023436784744262695, verifier='AttackEstimationModule (PGDAttack (iterations=10, step_size=0.01, randomise=False))')\n",
      "result: EpsilonValueResult(verification_context=<ada_verona.database.verification_context.VerificationContext object at 0x153983c3df60>, epsilon=0.005, smallest_sat_value=0.05, time=0.02271246910095215, verifier='AttackEstimationModule (PGDAttack (iterations=10, step_size=0.01, randomise=False))')\n",
      "result: EpsilonValueResult(verification_context=<ada_verona.database.verification_context.VerificationContext object at 0x153983c3e5f0>, epsilon=0.08, smallest_sat_value=0.08, time=0.03383803367614746, verifier='AttackEstimationModule (PGDAttack (iterations=10, step_size=0.01, randomise=False))')\n",
      "result: EpsilonValueResult(verification_context=<ada_verona.database.verification_context.VerificationContext object at 0x153983c3f850>, epsilon=0.005, smallest_sat_value=0.05, time=0.021189451217651367, verifier='AttackEstimationModule (PGDAttack (iterations=10, step_size=0.01, randomise=False))')\n",
      "result: EpsilonValueResult(verification_context=<ada_verona.database.verification_context.VerificationContext object at 0x153983c3c1f0>, epsilon=0.005, smallest_sat_value=0.05, time=0.02436065673828125, verifier='AttackEstimationModule (PGDAttack (iterations=10, step_size=0.01, randomise=False))')\n",
      "result: EpsilonValueResult(verification_context=<ada_verona.database.verification_context.VerificationContext object at 0x153983c3fd00>, epsilon=0.005, smallest_sat_value=0.05, time=0.02303457260131836, verifier='AttackEstimationModule (PGDAttack (iterations=10, step_size=0.01, randomise=False))')\n"
     ]
    },
    {
     "name": "stderr",
     "output_type": "stream",
     "text": [
      "DEBUG:ada_verona.epsilon_value_estimator.binary_search_epsilon_value_estimator:current epsilon value: SAT,took: {epsilon_status_list[midpoint].time}\n",
      "DEBUG:ada_verona.epsilon_value_estimator.binary_search_epsilon_value_estimator:epsilon status list: [(0.001, None, None), (0.005, <VerificationResult.UNSAT: 'UNSAT'>, 0.006410121917724609), (0.05, <VerificationResult.SAT: 'SAT'>, 0.008512258529663086), (0.08, None, None)]\n",
      "INFO:ada_verona.epsilon_value_estimator.binary_search_epsilon_value_estimator:Verification Context: {'network_path': PosixPath('/gpfs/home2/jvrijn/code/hiwi_code/PR_split/VERONA/example_experiment/data/networks/mnist-net_256x2.onnx'), 'image_id': 8, 'original_label': 5, 'tmp_path': PosixPath('/gpfs/home2/jvrijn/code/hiwi_code/PR_split/VERONA/notebooks/intermediate_results/30-09-2025+18_43/mnist-net_256x2/image_8')}, epsilon_result: 0.005\n",
      "DEBUG:ada_verona.epsilon_value_estimator.binary_search_epsilon_value_estimator:current epsilon value: UNSAT,took: {epsilon_status_list[midpoint].time}\n",
      "DEBUG:ada_verona.epsilon_value_estimator.binary_search_epsilon_value_estimator:current epsilon value: UNSAT,took: {epsilon_status_list[midpoint].time}\n",
      "DEBUG:ada_verona.epsilon_value_estimator.binary_search_epsilon_value_estimator:current epsilon value: UNSAT,took: {epsilon_status_list[midpoint].time}\n",
      "DEBUG:ada_verona.epsilon_value_estimator.binary_search_epsilon_value_estimator:epsilon status list: [(0.001, None, None), (0.005, <VerificationResult.UNSAT: 'UNSAT'>, 0.00715327262878418), (0.05, <VerificationResult.UNSAT: 'UNSAT'>, 0.006775617599487305), (0.08, <VerificationResult.UNSAT: 'UNSAT'>, 0.006949424743652344)]\n",
      "INFO:ada_verona.epsilon_value_estimator.binary_search_epsilon_value_estimator:Verification Context: {'network_path': PosixPath('/gpfs/home2/jvrijn/code/hiwi_code/PR_split/VERONA/example_experiment/data/networks/mnist-net_256x2.onnx'), 'image_id': 9, 'original_label': 9, 'tmp_path': PosixPath('/gpfs/home2/jvrijn/code/hiwi_code/PR_split/VERONA/notebooks/intermediate_results/30-09-2025+18_43/mnist-net_256x2/image_9')}, epsilon_result: 0.08\n"
     ]
    },
    {
     "name": "stdout",
     "output_type": "stream",
     "text": [
      "result: EpsilonValueResult(verification_context=<ada_verona.database.verification_context.VerificationContext object at 0x153983c3c100>, epsilon=0.005, smallest_sat_value=0.05, time=0.025789260864257812, verifier='AttackEstimationModule (PGDAttack (iterations=10, step_size=0.01, randomise=False))')\n",
      "result: EpsilonValueResult(verification_context=<ada_verona.database.verification_context.VerificationContext object at 0x153983c3f1f0>, epsilon=0.08, smallest_sat_value=0.08, time=0.037378549575805664, verifier='AttackEstimationModule (PGDAttack (iterations=10, step_size=0.01, randomise=False))')\n"
     ]
    }
   ],
   "source": [
    "results = []\n",
    "now = datetime.now()\n",
    "now_string = now.strftime(\"%d-%m-%Y+%H_%M\")\n",
    "\n",
    "# Here the intermediate results (the per epsilon queries )\n",
    "intermediate_result_base_path = Path(f\"intermediate_results/{now_string}\")\n",
    "\n",
    "for data_point in sampled_data:\n",
    "    network_name = network.path.name.split(\".\")[0]\n",
    "    intermediate_result_path = Path(intermediate_result_base_path / f\"{network_name}/image_{data_point.id}\")\n",
    "\n",
    "    verification_context = VerificationContext(\n",
    "        network,\n",
    "        data_point,\n",
    "        intermediate_result_path,\n",
    "        property_generator=property_generator,\n",
    "    )\n",
    "    epsilon_value_result = epsilon_value_estimator_pgd.compute_epsilon_value(verification_context)\n",
    "\n",
    "    print(f\"result: {epsilon_value_result}\")\n",
    "    results.append(epsilon_value_result)"
   ]
  },
  {
   "cell_type": "markdown",
   "id": "e4c16310",
   "metadata": {},
   "source": [
    "## 3. Run AbCrown Verification Experiments\n",
    "\n",
    "**Note:** Make sure that you have installed the `autoverify` package with at least version 0.1.4: `uv pip install autov-verify==0.1.4`.\n",
    "\n",
    "Below is an example for running formal verification-based robustness estimation using the AbCrown verifier. This provides **lower bounds** to robustness distributions (as opposed to upper bounds from adversarial attacks).\n",
    "\n",
    "- [**AB-CROWN**](https://github.com/Verified-Intelligence/alpha-beta-CROWN): A state-of-the-art neural network verifier that can provide formal guarantees\n"
   ]
  },
  {
   "cell_type": "code",
   "execution_count": 19,
   "id": "65848a16",
   "metadata": {},
   "outputs": [],
   "source": [
    "from autoverify.verifier import AbCrown\n",
    "from ada_verona.verification_module.auto_verify_module import AutoVerifyModule"
   ]
  },
  {
   "cell_type": "code",
   "execution_count": 20,
   "id": "506460f7",
   "metadata": {},
   "outputs": [],
   "source": [
    "# Set up experiment repository for AbCrown verification\n",
    "experiment_name = \"abcrown_verification\"\n",
    "timeout = 600  # 10 minutes timeout per verification query\n",
    "experiment_repository_path = Path(\"../example_experiment\")\n",
    "network_folder = Path(\"../example_experiment/data/networks\")\n",
    "\n",
    "# Initialize experiment repository\n",
    "file_database = ExperimentRepository(base_path=experiment_repository_path, network_folder=network_folder)\n",
    "file_database.initialize_new_experiment(experiment_name)\n",
    "\n",
    "# Save experiment configuration\n",
    "file_database.save_configuration(\n",
    "    dict(\n",
    "        experiment_name=experiment_name,\n",
    "        experiment_repository_path=str(experiment_repository_path),\n",
    "        network_folder=str(network_folder),\n",
    "        timeout=timeout,\n",
    "        epsilon_list=[str(x) for x in epsilon_list],\n",
    "    )\n",
    ")\n"
   ]
  },
  {
   "cell_type": "code",
   "execution_count": 21,
   "id": "03c0724d",
   "metadata": {},
   "outputs": [],
   "source": [
    "# Set up AbCrown verifier with AutoVerifyModule wrapper\n",
    "property_generator = One2AnyPropertyGenerator()\n",
    "verifier = AutoVerifyModule(verifier=AbCrown(), timeout=timeout)\n",
    "\n",
    "# Create epsilon value estimator for formal verification\n",
    "epsilon_value_estimator_abcrown = BinarySearchEpsilonValueEstimator(\n",
    "    epsilon_value_list=epsilon_list.copy(), verifier=verifier\n",
    ")\n",
    "\n",
    "# Set up dataset sampler to only work with correctly predicted samples\n",
    "dataset_sampler = PredictionsBasedSampler(sample_correct_predictions=True)\n"
   ]
  },
  {
   "cell_type": "code",
   "execution_count": null,
   "id": "dfebfc44",
   "metadata": {},
   "outputs": [],
   "source": [
    "# Run AbCrown verification experiment\n",
    "network_list = file_database.get_network_list()\n",
    "\n",
    "for network in network_list:\n",
    "    print(f\"Processing network: {network.path.name}\")\n",
    "    \n",
    "    # Sample correctly predicted data points\n",
    "    sampled_data = dataset_sampler.sample(network, dataset)\n",
    "    print(f\"Found {len(sampled_data)} correctly predicted samples\")\n",
    "    \n",
    "    for data_point in sampled_data:\n",
    "        # Create verification context for this network-data pair\n",
    "        verification_context = file_database.create_verification_context(\n",
    "            network, data_point, property_generator\n",
    "        )\n",
    "        \n",
    "        # Compute epsilon value using formal verification\n",
    "        epsilon_value_result = epsilon_value_estimator_abcrown.compute_epsilon_value(verification_context)\n",
    "        \n",
    "        # Save result to experiment repository\n",
    "        file_database.save_result(epsilon_value_result)\n",
    "        \n",
    "        print(f\"Result for image {data_point.id}: {epsilon_value_result}\")\n",
    "\n",
    "# Generate plots and save experiment results\n",
    "file_database.save_plots()\n",
    "print(\"AbCrown verification experiment completed!\")\n"
   ]
  },
  {
   "cell_type": "markdown",
   "id": "4d5ac057",
   "metadata": {},
   "source": [
    "#### If you have questions or want to contribute, please open an issue or a pull request on our [VERONA GitHub](https://github.com/ADA-research/VERONA/issues)! Please also refer to our [VERONA wiki](https://deepwiki.com/ADA-research/VERONA). You can find more examples in the `scripts/` folder.\n"
   ]
  },
  {
   "cell_type": "markdown",
   "id": "4bdc8438",
   "metadata": {},
   "source": [
    "### References:\n",
    "\n",
    "[1] A. W. Bosman, H. H. Hoos, and J. N. van Rijn, “A Preliminary Study of Critical Robustness Distributions in Neural Network Verification,” Proceedings of the 6th workshop on formal methods for ML-enabled autonomous systems, 2023. Available: https://ada.liacs.leidenuniv.nl/papers/BosEtAl23.pdf\n",
    "\n",
    "\n",
    "[2] A. Berger, N. Eberhardt, A. W. Bosman, H. Duwe, J. N. van Rijn, and H. Hoos, “Empirical Analysis of Upper Bounds of Robustness Distributions using Adversarial Attacks,” in THE 19TH LEARNING AND IN℡LIGENT OPTIMIZATION CONFERENCE, Accessed: Jul. 15, 2025. [Online]. Available: https://openreview.net/forum?id=jsfqoRrsjy\n",
    "\n",
    "[3] A. Madry, A. Makelov, L. Schmidt, D. Tsipras, and A. Vladu, “Towards Deep Learning Models Resistant to Adversarial Attacks,” presented at the International Conference on Learning Representations, Feb. 2018. Accessed: Dec. 20, 2024. [Online]. Available: https://openreview.net/forum?id=rJzIBfZAb\n",
    "\n",
    "\n",
    "[4] F. Croce and M. Hein, “Mind the box: l_1 -APGD for sparse adversarial attacks on image classifiers,” in International Conference on Machine Learning, PMLR, 2021, pp. 2201–2211. Accessed: Jul. 16, 2025. [Online]. Available: http://proceedings.mlr.press/v139/croce21a.html\n",
    "[5] F. Croce and M. Hein, “Reliable evaluation of adversarial robustness with an ensemble of diverse parameter-free attacks,” in International conference on machine learning, PMLR, 2020, pp. 2206–2216. Accessed: May 03, 2025. [Online]. Available: https://proceedings.mlr.press/v119/croce20b.html\n",
    "\n"
   ]
  }
 ],
 "metadata": {
  "kernelspec": {
   "display_name": "verona_new",
   "language": "python",
   "name": "python3"
  },
  "language_info": {
   "codemirror_mode": {
    "name": "ipython",
    "version": 3
   },
   "file_extension": ".py",
   "mimetype": "text/x-python",
   "name": "python",
   "nbconvert_exporter": "python",
   "pygments_lexer": "ipython3",
   "version": "3.10.18"
  }
 },
 "nbformat": 4,
 "nbformat_minor": 5
}
