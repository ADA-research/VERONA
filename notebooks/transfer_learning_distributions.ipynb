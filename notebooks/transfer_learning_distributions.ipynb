{
 "cells": [
  {
   "cell_type": "markdown",
   "id": "c711b609",
   "metadata": {},
   "source": [
    "# Transfer Learning "
   ]
  },
  {
   "cell_type": "markdown",
   "id": "32b951bd",
   "metadata": {},
   "source": [
    "This notebook shows how VERONA can be used to create robustness distribution plots relevant in a transfer learning of robustness research setting. It creates robustness distribution plots over retrained layers and robustness distribution comparisons of adversarial and transfer learned networks."
   ]
  },
  {
   "cell_type": "code",
   "execution_count": null,
   "id": "0f4b8a63",
   "metadata": {},
   "outputs": [],
   "source": [
    "import logging\n",
    "from datetime import datetime\n",
    "from pathlib import Path\n",
    "\n",
    "import pandas as pd\n",
    "import torch\n",
    "import torchvision\n",
    "import torchvision.transforms as transforms\n",
    "from autoverify.verifier import Verinet\n",
    "\n",
    "import plotly.express as ex\n",
    "import plotly.graph_objs as go\n",
    "\n",
    "from ada_verona.database.machine_learning_model.network import Network\n",
    "from ada_verona.database.machine_learning_model.onnx_network import ONNXNetwork\n",
    "from ada_verona.database.machine_learning_model.pytorch_network import PyTorchNetwork\n",
    "\n",
    "from ada_verona.analysis.report_creator import ReportCreator\n",
    "from ada_verona.database.dataset.image_file_dataset import ImageFileDataset\n",
    "from ada_verona.database.dataset.pytorch_experiment_dataset import PytorchExperimentDataset\n",
    "from ada_verona.database.verification_context import VerificationContext\n",
    "from ada_verona.dataset_sampler.predictions_based_sampler import PredictionsBasedSampler\n",
    "from ada_verona.database.experiment_repository import ExperimentRepository\n",
    "from ada_verona.epsilon_value_estimator.binary_search_epsilon_value_estimator import (\n",
    "    BinarySearchEpsilonValueEstimator,\n",
    ")\n",
    "from ada_verona.verification_module.auto_verify_module import (\n",
    "    AutoVerifyModule,\n",
    ")\n",
    "from ada_verona.verification_module.property_generator.one2any_property_generator import (\n",
    "    One2AnyPropertyGenerator,\n",
    ")\n",
    "\n",
    "%matplotlib inline\n",
    "torch.manual_seed(0)\n",
    "logging.basicConfig(format=\"%(asctime)s %(levelname)s %(message)s\", level=logging.DEBUG)"
   ]
  },
  {
   "cell_type": "markdown",
   "id": "e1d527ba",
   "metadata": {},
   "source": [
    "## Define Dataset"
   ]
  },
  {
   "cell_type": "code",
   "execution_count": null,
   "id": "43663d89",
   "metadata": {},
   "outputs": [],
   "source": [
    "# define pytorch dataset. Preprocessing can be defined in the transform parameter\n",
    "torch_dataset = torchvision.datasets.MNIST(root=\"data\", train=False, download=True, transform=transforms.ToTensor())\n",
    "\n",
    "# wrap pytorch dataset into experiment dataset to keep track of image id\n",
    "experiment_dataset = PytorchExperimentDataset(dataset=torch_dataset)\n",
    "\n",
    "# work on subset of the dataset to keep experiment small\n",
    "experiment_dataset = experiment_dataset.get_subset([x for x in range(0, 10)])"
   ]
  },
  {
   "cell_type": "markdown",
   "id": "97ca6982",
   "metadata": {},
   "source": [
    "## Component Setup"
   ]
  },
  {
   "cell_type": "code",
   "execution_count": null,
   "id": "5c713e04",
   "metadata": {},
   "outputs": [],
   "source": [
    "# define verifier\n",
    "timeout = 300\n",
    "\n",
    "# In this example, a one to any property generator is used. \n",
    "# That creates vnnlib files for one to any robustness queries\n",
    "# A one to one property generator is also already implemented in the package and could be used here as well\n",
    "# For the property generator, we have to define the number of classes, \n",
    "# the lower bound of the data and the upper bound of the data\n",
    "property_generator = One2AnyPropertyGenerator(number_classes=10, data_lb=0, data_ub=10)\n",
    "\n",
    "# In this example, Verinet is used. \n",
    "# All the other verifiers offered by the autoverify package can be used too in the AutoVerifyModule\n",
    "verifier = AutoVerifyModule(verifier=Verinet(), timeout=timeout)"
   ]
  },
  {
   "cell_type": "code",
   "execution_count": null,
   "id": "d7fc23b3",
   "metadata": {},
   "outputs": [],
   "source": [
    "# To compute critical epsilon values, one can use the BinrrySearchEpsilonValueEstimator class\n",
    "epsilon_value_list = [0.001,0.01,0.1,0.2,0.3,0.4]\n",
    "epsilon_value_estimator = BinarySearchEpsilonValueEstimator(epsilon_value_list=epsilon_value_list, verifier=verifier)"
   ]
  },
  {
   "cell_type": "code",
   "execution_count": null,
   "id": "33c8d9f1",
   "metadata": {},
   "outputs": [],
   "source": [
    "# Setup Paths\n",
    "experiment_repository_path = Path(\"../tests/test_transfer_learning\")\n",
    "network_folder = Path(\"../tests/test_transfer_learning/data/networks/\")\n",
    "experiment_repository = ExperimentRepository(experiment_repository_path, network_folder)\n",
    "experiment_name = \"TransferLearning\""
   ]
  },
  {
   "cell_type": "code",
   "execution_count": null,
   "id": "1ab4df32",
   "metadata": {},
   "outputs": [],
   "source": [
    "# To compute the robustness of a network, one first has\n",
    "# to check which data points are classified correctly.\n",
    "# For that the PredictionsBasedSampler class is used\n",
    "dataset_sampler = PredictionsBasedSampler(sample_correct_predictions=True)"
   ]
  },
  {
   "cell_type": "code",
   "execution_count": null,
   "id": "1641fd6c",
   "metadata": {},
   "outputs": [],
   "source": [
    "# Setup Experiment\n",
    "experiment_repository.initialize_new_experiment(experiment_name)\n",
    "experiment_repository.save_configuration(\n",
    "    dict(\n",
    "        experiment_name=experiment_name,\n",
    "        experiment_repository_path=str(experiment_repository_path),\n",
    "        network_folder=str(network_folder),\n",
    "        dataset=str(experiment_dataset),\n",
    "        timeout=timeout,\n",
    "        epsilon_list=[str(x) for x in epsilon_value_list],\n",
    "    )\n",
    ")"
   ]
  },
  {
   "cell_type": "markdown",
   "id": "9e90702b",
   "metadata": {},
   "source": [
    "# Sampling Datapoints"
   ]
  },
  {
   "cell_type": "code",
   "execution_count": null,
   "id": "805146ec",
   "metadata": {},
   "outputs": [],
   "source": [
    "\n",
    "network_list = experiment_repository.get_network_list(\"../tests/test_transfer_learning/networks.csv\")\n",
    "failed_networks = []\n",
    "\n",
    "for network in network_list:\n",
    "    # Here all the data points that are correctly predicted by the network are sampled\n",
    "    try:\n",
    "        sampled_data = dataset_sampler.sample(network, experiment_dataset)\n",
    "    except Exception as e:\n",
    "        logging.info(f\"failed for network: {network} with error: {e}\")\n",
    "        failed_networks.append(network)\n",
    "        continue\n",
    "\n",
    "    for data_point in sampled_data:\n",
    "        network_name = network.path.name.split(\".\")[0]\n",
    "        # intermediate_result_path = Path(intermediate_result_base_path / f\"{network_name}/image_{data_point.id}\")\n",
    "\n",
    "        verification_context = experiment_repository.create_verification_context(network, data_point, property_generator)\n",
    "\n",
    "        epsilon_value_result = epsilon_value_estimator.compute_epsilon_value(verification_context)\n",
    "\n",
    "        experiment_repository.save_result(epsilon_value_result)\n",
    "\n",
    "        print(f\"result: {epsilon_value_result}\")\n",
    "                    \n",
    "        experiment_repository.save_result(epsilon_value_result)\n",
    "\n",
    "#Save Plots\n",
    "experiment_repository.save_plots()\n",
    "logging.info(f\"Failed for networks: {failed_networks}\")"
   ]
  },
  {
   "cell_type": "markdown",
   "id": "eddc8ea8",
   "metadata": {},
   "source": [
    "## Retraining Plot\n",
    "Plot of robustness distributions per retrained layer"
   ]
  },
  {
   "cell_type": "code",
   "execution_count": null,
   "id": "7308685f",
   "metadata": {},
   "outputs": [],
   "source": [
    "model_name = \"convSmallRELU__DiffAI_transfer_emnist\"\n",
    "\n",
    "distributions = experiment_repository.get_result_df()\n",
    "\n",
    "fig = ex.box(distributions[distributions[\"Model\"].str.contains(model_name)], x=\"Model\", y=\"Critical_epsilon\", facet_col=\"retrained\")\n",
    "fig.update_xaxes(visible=False)\n",
    "fig.update_layout({\"height\": 350, \"margin\": {\"b\": 0}})\n",
    "fig.write_image(experiment_repository.get_results_path() / \"retraining_plot.png\")"
   ]
  }
 ],
 "metadata": {
  "kernelspec": {
   "display_name": "verona",
   "language": "python",
   "name": "python3"
  },
  "language_info": {
   "codemirror_mode": {
    "name": "ipython",
    "version": 3
   },
   "file_extension": ".py",
   "mimetype": "text/x-python",
   "name": "python",
   "nbconvert_exporter": "python",
   "pygments_lexer": "ipython3",
   "version": "3.10.18"
  }
 },
 "nbformat": 4,
 "nbformat_minor": 5
}
